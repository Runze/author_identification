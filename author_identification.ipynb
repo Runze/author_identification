{
 "cells": [
  {
   "cell_type": "code",
   "execution_count": 1,
   "metadata": {},
   "outputs": [],
   "source": [
    "%reload_ext autoreload\n",
    "%autoreload 2\n",
    "%matplotlib inline"
   ]
  },
  {
   "cell_type": "code",
   "execution_count": 2,
   "metadata": {},
   "outputs": [],
   "source": [
    "# !ln -s /home/ubuntu/fastai/fastai ."
   ]
  },
  {
   "cell_type": "code",
   "execution_count": 3,
   "metadata": {},
   "outputs": [
    {
     "name": "stdout",
     "output_type": "stream",
     "text": [
      "\n",
      "\u001b[93m    Warning: no model found for 'en'\u001b[0m\n",
      "\n",
      "    Only loading the 'en' tokenizer.\n",
      "\n"
     ]
    }
   ],
   "source": [
    "from fastai.learner import *\n",
    "\n",
    "import torchtext\n",
    "from torchtext import vocab, data\n",
    "from torchtext.datasets import language_modeling\n",
    "\n",
    "from fastai.rnn_reg import *\n",
    "# from fastai.rnn_train import *\n",
    "from fastai.nlp import *\n",
    "# from fastai.lm_rnn import *\n",
    "\n",
    "import dill as pickle\n",
    "import io"
   ]
  },
  {
   "cell_type": "code",
   "execution_count": 4,
   "metadata": {},
   "outputs": [],
   "source": [
    "SEED = 123456"
   ]
  },
  {
   "cell_type": "code",
   "execution_count": 5,
   "metadata": {},
   "outputs": [],
   "source": [
    "PATH = 'data'"
   ]
  },
  {
   "cell_type": "code",
   "execution_count": 6,
   "metadata": {},
   "outputs": [
    {
     "name": "stdout",
     "output_type": "stream",
     "text": [
      "imdb\t\t       test\t      tmp\t      trn\r\n",
      "models\t\t       test.csv       train.csv       val\r\n",
      "sample_submission.csv  test_proc.csv  train_proc.csv  val_proc.csv\r\n"
     ]
    }
   ],
   "source": [
    "!ls {PATH}"
   ]
  },
  {
   "cell_type": "markdown",
   "metadata": {},
   "source": [
    "## Process training data"
   ]
  },
  {
   "cell_type": "code",
   "execution_count": 7,
   "metadata": {},
   "outputs": [
    {
     "data": {
      "text/html": [
       "<div>\n",
       "<style scoped>\n",
       "    .dataframe tbody tr th:only-of-type {\n",
       "        vertical-align: middle;\n",
       "    }\n",
       "\n",
       "    .dataframe tbody tr th {\n",
       "        vertical-align: top;\n",
       "    }\n",
       "\n",
       "    .dataframe thead th {\n",
       "        text-align: right;\n",
       "    }\n",
       "</style>\n",
       "<table border=\"1\" class=\"dataframe\">\n",
       "  <thead>\n",
       "    <tr style=\"text-align: right;\">\n",
       "      <th></th>\n",
       "      <th>id</th>\n",
       "      <th>text</th>\n",
       "      <th>author</th>\n",
       "    </tr>\n",
       "  </thead>\n",
       "  <tbody>\n",
       "    <tr>\n",
       "      <th>0</th>\n",
       "      <td>id26305</td>\n",
       "      <td>This process, however, afforded me no means of...</td>\n",
       "      <td>EAP</td>\n",
       "    </tr>\n",
       "    <tr>\n",
       "      <th>1</th>\n",
       "      <td>id17569</td>\n",
       "      <td>It never once occurred to me that the fumbling...</td>\n",
       "      <td>HPL</td>\n",
       "    </tr>\n",
       "    <tr>\n",
       "      <th>2</th>\n",
       "      <td>id11008</td>\n",
       "      <td>In his left hand was a gold snuff box, from wh...</td>\n",
       "      <td>EAP</td>\n",
       "    </tr>\n",
       "    <tr>\n",
       "      <th>3</th>\n",
       "      <td>id27763</td>\n",
       "      <td>How lovely is spring As we looked from Windsor...</td>\n",
       "      <td>MWS</td>\n",
       "    </tr>\n",
       "    <tr>\n",
       "      <th>4</th>\n",
       "      <td>id12958</td>\n",
       "      <td>Finding nothing else, not even gold, the Super...</td>\n",
       "      <td>HPL</td>\n",
       "    </tr>\n",
       "  </tbody>\n",
       "</table>\n",
       "</div>"
      ],
      "text/plain": [
       "        id                                               text author\n",
       "0  id26305  This process, however, afforded me no means of...    EAP\n",
       "1  id17569  It never once occurred to me that the fumbling...    HPL\n",
       "2  id11008  In his left hand was a gold snuff box, from wh...    EAP\n",
       "3  id27763  How lovely is spring As we looked from Windsor...    MWS\n",
       "4  id12958  Finding nothing else, not even gold, the Super...    HPL"
      ]
     },
     "execution_count": 7,
     "metadata": {},
     "output_type": "execute_result"
    }
   ],
   "source": [
    "txt = pd.read_csv(f'{PATH}/train.csv')\n",
    "txt.head()"
   ]
  },
  {
   "cell_type": "code",
   "execution_count": 8,
   "metadata": {},
   "outputs": [
    {
     "data": {
      "text/plain": [
       "(19579, 3)"
      ]
     },
     "execution_count": 8,
     "metadata": {},
     "output_type": "execute_result"
    }
   ],
   "source": [
    "txt.shape"
   ]
  },
  {
   "cell_type": "code",
   "execution_count": 9,
   "metadata": {
    "scrolled": true
   },
   "outputs": [
    {
     "data": {
      "text/plain": [
       "EAP    0.403494\n",
       "MWS    0.308698\n",
       "HPL    0.287808\n",
       "Name: author, dtype: float64"
      ]
     },
     "execution_count": 9,
     "metadata": {},
     "output_type": "execute_result"
    }
   ],
   "source": [
    "txt['author'].value_counts(normalize=True)"
   ]
  },
  {
   "cell_type": "code",
   "execution_count": 10,
   "metadata": {},
   "outputs": [],
   "source": [
    "# Tokenize to count words\n",
    "txt['text_toks'] = txt['text'].apply(spacy_tok)\n",
    "txt['text_len'] = txt['text_toks'].str.len()"
   ]
  },
  {
   "cell_type": "code",
   "execution_count": 11,
   "metadata": {},
   "outputs": [
    {
     "data": {
      "text/plain": [
       "<matplotlib.axes._subplots.AxesSubplot at 0x7f7d9b343198>"
      ]
     },
     "execution_count": 11,
     "metadata": {},
     "output_type": "execute_result"
    },
    {
     "data": {
      "image/png": "[encoded data removed]",
      "text/plain": [
       "<matplotlib.figure.Figure at 0x7f7df4572860>"
      ]
     },
     "metadata": {},
     "output_type": "display_data"
    }
   ],
   "source": [
    "sns.barplot(x='author', y='text_len', data=txt)"
   ]
  },
  {
   "cell_type": "code",
   "execution_count": 12,
   "metadata": {},
   "outputs": [
    {
     "data": {
      "text/plain": [
       "count    19579.000000\n",
       "mean        30.399203\n",
       "std         20.947826\n",
       "min          4.000000\n",
       "25%         17.000000\n",
       "50%         26.000000\n",
       "75%         39.000000\n",
       "max        876.000000\n",
       "Name: text_len, dtype: float64"
      ]
     },
     "execution_count": 12,
     "metadata": {},
     "output_type": "execute_result"
    }
   ],
   "source": [
    "txt['text_len'].describe()"
   ]
  },
  {
   "cell_type": "code",
   "execution_count": 13,
   "metadata": {},
   "outputs": [],
   "source": [
    "# Split into training and test set\n",
    "txt_trn, txt_val, txt_trn_y, txt_val_y = train_test_split(txt[['id', 'text']], txt['author'], random_state=SEED)"
   ]
  },
  {
   "cell_type": "code",
   "execution_count": 14,
   "metadata": {},
   "outputs": [
    {
     "data": {
      "text/plain": [
       "((14684, 2), (4895, 2))"
      ]
     },
     "execution_count": 14,
     "metadata": {},
     "output_type": "execute_result"
    }
   ],
   "source": [
    "txt_trn.shape, txt_val.shape"
   ]
  },
  {
   "cell_type": "code",
   "execution_count": 15,
   "metadata": {},
   "outputs": [
    {
     "data": {
      "text/html": [
       "<div>\n",
       "<style scoped>\n",
       "    .dataframe tbody tr th:only-of-type {\n",
       "        vertical-align: middle;\n",
       "    }\n",
       "\n",
       "    .dataframe tbody tr th {\n",
       "        vertical-align: top;\n",
       "    }\n",
       "\n",
       "    .dataframe thead th {\n",
       "        text-align: right;\n",
       "    }\n",
       "</style>\n",
       "<table border=\"1\" class=\"dataframe\">\n",
       "  <thead>\n",
       "    <tr style=\"text-align: right;\">\n",
       "      <th></th>\n",
       "      <th>id</th>\n",
       "      <th>text</th>\n",
       "    </tr>\n",
       "  </thead>\n",
       "  <tbody>\n",
       "    <tr>\n",
       "      <th>0</th>\n",
       "      <td>id02310</td>\n",
       "      <td>Still, as I urged our leaving Ireland with suc...</td>\n",
       "    </tr>\n",
       "    <tr>\n",
       "      <th>1</th>\n",
       "      <td>id24541</td>\n",
       "      <td>If a fire wanted fanning, it could readily be ...</td>\n",
       "    </tr>\n",
       "    <tr>\n",
       "      <th>2</th>\n",
       "      <td>id00134</td>\n",
       "      <td>And when they had broken down the frail door t...</td>\n",
       "    </tr>\n",
       "    <tr>\n",
       "      <th>3</th>\n",
       "      <td>id27757</td>\n",
       "      <td>While I was thinking how I should possibly man...</td>\n",
       "    </tr>\n",
       "    <tr>\n",
       "      <th>4</th>\n",
       "      <td>id04081</td>\n",
       "      <td>I am not sure to what limit his knowledge may ...</td>\n",
       "    </tr>\n",
       "  </tbody>\n",
       "</table>\n",
       "</div>"
      ],
      "text/plain": [
       "        id                                               text\n",
       "0  id02310  Still, as I urged our leaving Ireland with suc...\n",
       "1  id24541  If a fire wanted fanning, it could readily be ...\n",
       "2  id00134  And when they had broken down the frail door t...\n",
       "3  id27757  While I was thinking how I should possibly man...\n",
       "4  id04081  I am not sure to what limit his knowledge may ..."
      ]
     },
     "execution_count": 15,
     "metadata": {},
     "output_type": "execute_result"
    }
   ],
   "source": [
    "# Read in test data\n",
    "txt_test = pd.read_csv(f'{PATH}/test.csv')\n",
    "txt_test.head()"
   ]
  },
  {
   "cell_type": "code",
   "execution_count": 152,
   "metadata": {},
   "outputs": [],
   "source": [
    "# Sort by len\n",
    "# Because that's how torchtext would sort it,\n",
    "# I need to do the same thing in order to match its results\n",
    "txt_test['text_toks'] = txt_test['text'].apply(spacy_tok)\n",
    "txt_test['text_len'] = txt_test['text_toks'].str.len()\n",
    "txt_test['index'] = txt_test.index\n",
    "\n",
    "txt_test.sort_values(by=['text_len', 'index'], inplace=True)\n",
    "txt_test.reset_index(drop=True, inplace=True)"
   ]
  },
  {
   "cell_type": "markdown",
   "metadata": {},
   "source": [
    "## Create a language model"
   ]
  },
  {
   "cell_type": "code",
   "execution_count": 16,
   "metadata": {},
   "outputs": [],
   "source": [
    "# Create a torchtext field\n",
    "TEXT = data.Field(lower=True, tokenize=spacy_tok, eos_token='<eos>')"
   ]
  },
  {
   "cell_type": "code",
   "execution_count": 17,
   "metadata": {},
   "outputs": [],
   "source": [
    "bs = 64  # Batch size\n",
    "bptt = 30  # Number of tokens to process at a time"
   ]
  },
  {
   "cell_type": "code",
   "execution_count": 19,
   "metadata": {},
   "outputs": [
    {
     "data": {
      "text/plain": [
       "<fastai.nlp.LanguageModelData at 0x7f0af91fe898>"
      ]
     },
     "execution_count": 19,
     "metadata": {},
     "output_type": "execute_result"
    }
   ],
   "source": [
    "# Create language model data\n",
    "txt_lmd = LanguageModelData.from_dataframes(\n",
    "    path=PATH,\n",
    "    field=TEXT,\n",
    "    col='text',\n",
    "    train_df=txt_trn,\n",
    "    val_df=txt_val,\n",
    "    test_df=txt_test,\n",
    "    bs=bs,\n",
    "    bptt=bptt,\n",
    "    min_freq=10)\n",
    "txt_lmd"
   ]
  },
  {
   "cell_type": "code",
   "execution_count": 38,
   "metadata": {},
   "outputs": [
    {
     "data": {
      "text/plain": [
       "(6952, 2347, 3944)"
      ]
     },
     "execution_count": 38,
     "metadata": {},
     "output_type": "execute_result"
    }
   ],
   "source": [
    "# Number of sentences\n",
    "txt_lmd.trn_dl.n, txt_lmd.val_dl.n, txt_lmd.test_dl.n"
   ]
  },
  {
   "cell_type": "code",
   "execution_count": 21,
   "metadata": {},
   "outputs": [
    {
     "data": {
      "text/plain": [
       "(3960, 3960)"
      ]
     },
     "execution_count": 21,
     "metadata": {},
     "output_type": "execute_result"
    }
   ],
   "source": [
    "# Vocabulary size\n",
    "len(TEXT.vocab), txt_lmd.nt"
   ]
  },
  {
   "cell_type": "code",
   "execution_count": 22,
   "metadata": {},
   "outputs": [
    {
     "data": {
      "text/plain": [
       "['<unk>', '<pad>', '<eos>', ',', 'the', 'of', '.', 'and', 'to', 'i']"
      ]
     },
     "execution_count": 22,
     "metadata": {},
     "output_type": "execute_result"
    }
   ],
   "source": [
    "# Vocabulary dict\n",
    "# Most frequent words\n",
    "TEXT.vocab.itos[:10]"
   ]
  },
  {
   "cell_type": "code",
   "execution_count": 23,
   "metadata": {},
   "outputs": [
    {
     "data": {
      "text/plain": [
       "['villain',\n",
       " 'vividly',\n",
       " 'vulgar',\n",
       " 'w.',\n",
       " 'walks',\n",
       " 'weeds',\n",
       " 'whispers',\n",
       " 'wing',\n",
       " 'worship',\n",
       " 'writer']"
      ]
     },
     "execution_count": 23,
     "metadata": {},
     "output_type": "execute_result"
    }
   ],
   "source": [
    "# Least frequent words\n",
    "TEXT.vocab.itos[-10:]"
   ]
  },
  {
   "cell_type": "code",
   "execution_count": 24,
   "metadata": {},
   "outputs": [
    {
     "data": {
      "text/plain": [
       "[0, 1, 2, 3, 4, 5, 6, 7, 8, 9]"
      ]
     },
     "execution_count": 24,
     "metadata": {},
     "output_type": "execute_result"
    }
   ],
   "source": [
    "# Word to index\n",
    "[TEXT.vocab.stoi[s] for s in TEXT.vocab.itos[:10]]"
   ]
  },
  {
   "cell_type": "code",
   "execution_count": 26,
   "metadata": {},
   "outputs": [
    {
     "data": {
      "text/plain": [
       "(444937, 150251)"
      ]
     },
     "execution_count": 26,
     "metadata": {},
     "output_type": "execute_result"
    }
   ],
   "source": [
    "# Total number of tokens in the training and validation set\n",
    "len(txt_lmd.trn_ds[0].text), len(txt_lmd.val_ds[0].text)"
   ]
  },
  {
   "cell_type": "code",
   "execution_count": 27,
   "metadata": {},
   "outputs": [
    {
     "data": {
      "text/plain": [
       "['one',\n",
       " 'night',\n",
       " ',',\n",
       " 'near',\n",
       " 'the',\n",
       " 'closing',\n",
       " 'in',\n",
       " 'of',\n",
       " 'september',\n",
       " ',',\n",
       " 'she',\n",
       " 'pressed',\n",
       " 'this',\n",
       " 'distressing',\n",
       " 'subject',\n",
       " 'with',\n",
       " 'more',\n",
       " 'than',\n",
       " 'usual',\n",
       " 'emphasis']"
      ]
     },
     "execution_count": 27,
     "metadata": {},
     "output_type": "execute_result"
    }
   ],
   "source": [
    "# Check out the first sentence in the training set\n",
    "txt_lmd.trn_ds[0].text[:20]"
   ]
  },
  {
   "cell_type": "code",
   "execution_count": 28,
   "metadata": {},
   "outputs": [
    {
     "data": {
      "text/plain": [
       "'One night, near the closing in of September, she pressed this distressing subject with more than usual emphasis upon my attention.'"
      ]
     },
     "execution_count": 28,
     "metadata": {},
     "output_type": "execute_result"
    }
   ],
   "source": [
    "# Compare with the training data\n",
    "txt_trn.iloc[0].text"
   ]
  },
  {
   "cell_type": "code",
   "execution_count": 29,
   "metadata": {},
   "outputs": [
    {
     "data": {
      "text/plain": [
       "(230, 231.73802083333334)"
      ]
     },
     "execution_count": 29,
     "metadata": {},
     "output_type": "execute_result"
    }
   ],
   "source": [
    "# Number of batches in the training data\n",
    "len(txt_lmd.trn_dl), len(txt_lmd.trn_ds[0].text) / bs / bptt"
   ]
  },
  {
   "cell_type": "code",
   "execution_count": 30,
   "metadata": {},
   "outputs": [],
   "source": [
    "# Check out a batch\n",
    "X, y = next(iter(txt_lmd.trn_dl))"
   ]
  },
  {
   "cell_type": "code",
   "execution_count": 31,
   "metadata": {},
   "outputs": [
    {
     "data": {
      "text/plain": [
       "Variable containing:\n",
       "   44    11     0  ...     34  2728     4\n",
       "  107     4     0  ...     83   418   542\n",
       "    3  3276     7  ...      3     6     6\n",
       "       ...          ⋱          ...       \n",
       "   48     0    25  ...     11     3     7\n",
       "   14    10    13  ...     71    16   109\n",
       "  352  2133    64  ...      3     9   271\n",
       "[torch.cuda.LongTensor of size 23x64 (GPU 0)]"
      ]
     },
     "execution_count": 31,
     "metadata": {},
     "output_type": "execute_result"
    }
   ],
   "source": [
    "X"
   ]
  },
  {
   "cell_type": "code",
   "execution_count": 32,
   "metadata": {},
   "outputs": [
    {
     "data": {
      "text/plain": [
       "Variable containing:\n",
       "  107     4     0  ...     83   418   542\n",
       "    3  3276     7  ...      3     6     6\n",
       "  229     5     0  ...      9    33    70\n",
       "       ...          ⋱          ...       \n",
       "   14    10    13  ...     71    16   109\n",
       "  352  2133    64  ...      3     9   271\n",
       "    6     0   189  ...     64    37    33\n",
       "[torch.cuda.LongTensor of size 23x64 (GPU 0)]"
      ]
     },
     "execution_count": 32,
     "metadata": {},
     "output_type": "execute_result"
    }
   ],
   "source": [
    "y.view(-1, 64)"
   ]
  },
  {
   "cell_type": "code",
   "execution_count": 33,
   "metadata": {},
   "outputs": [],
   "source": [
    "os.makedirs(f'{PATH}/models', exist_ok=True)\n",
    "pickle.dump(TEXT, open(f'{PATH}/models/TEXT.pkl','wb'))"
   ]
  },
  {
   "cell_type": "markdown",
   "metadata": {},
   "source": [
    "## Train the language model"
   ]
  },
  {
   "cell_type": "code",
   "execution_count": 18,
   "metadata": {},
   "outputs": [],
   "source": [
    "embedding_size = 200\n",
    "hidden_size = 500\n",
    "n_layers = 3\n",
    "opt_fn = partial(optim.Adam, betas=(0.7, 0.99))"
   ]
  },
  {
   "cell_type": "code",
   "execution_count": 41,
   "metadata": {},
   "outputs": [],
   "source": [
    "learner = txt_lmd.get_model(\n",
    "    opt_fn=opt_fn,\n",
    "    emb_sz=embedding_size,\n",
    "    n_hid=hidden_size,\n",
    "    n_layers=n_layers,\n",
    "    dropouti=0.05,\n",
    "    dropout=0.05,\n",
    "    wdrop=0.1,\n",
    "    dropoute=0.02,\n",
    "    dropouth=0.05)"
   ]
  },
  {
   "cell_type": "code",
   "execution_count": 42,
   "metadata": {},
   "outputs": [],
   "source": [
    "# Add regularization\n",
    "learner.reg_fn = partial(seq2seq_reg, alpha=2, beta=1)"
   ]
  },
  {
   "cell_type": "code",
   "execution_count": 43,
   "metadata": {},
   "outputs": [],
   "source": [
    "# Gradient clipping\n",
    "learner.clip = 0.3"
   ]
  },
  {
   "cell_type": "code",
   "execution_count": 44,
   "metadata": {},
   "outputs": [
    {
     "data": {
      "text/plain": [
       "SequentialRNN (\n",
       "  (0): RNN_Encoder (\n",
       "    (encoder): Embedding(3960, 200, padding_idx=1)\n",
       "    (rnns): ModuleList (\n",
       "      (0): WeightDrop (\n",
       "        (module): LSTM(200, 500, dropout=0.05)\n",
       "      )\n",
       "      (1): WeightDrop (\n",
       "        (module): LSTM(500, 500, dropout=0.05)\n",
       "      )\n",
       "      (2): WeightDrop (\n",
       "        (module): LSTM(500, 200, dropout=0.05)\n",
       "      )\n",
       "    )\n",
       "    (dropouti): LockedDropout (\n",
       "    )\n",
       "    (dropouth): LockedDropout (\n",
       "    )\n",
       "  )\n",
       "  (1): LinearDecoder (\n",
       "    (decoder): Linear (200 -> 3960)\n",
       "    (dropout): LockedDropout (\n",
       "    )\n",
       "  )\n",
       ")"
      ]
     },
     "execution_count": 44,
     "metadata": {},
     "output_type": "execute_result"
    }
   ],
   "source": [
    "# Check out model structure\n",
    "learner"
   ]
  },
  {
   "cell_type": "code",
   "execution_count": 98,
   "metadata": {},
   "outputs": [
    {
     "data": {
      "application/vnd.jupyter.widget-view+json": {
       "model_id": "c659c78b8b794650b588fff1097194cb",
       "version_major": 2,
       "version_minor": 0
      },
      "text/html": [
       "<p>Failed to display Jupyter Widget of type <code>HBox</code>.</p>\n",
       "<p>\n",
       "  If you're reading this message in the Jupyter Notebook or JupyterLab Notebook, it may mean\n",
       "  that the widgets JavaScript is still loading. If this message persists, it\n",
       "  likely means that the widgets JavaScript library is either not installed or\n",
       "  not enabled. See the <a href=\"https://ipywidgets.readthedocs.io/en/stable/user_install.html\">Jupyter\n",
       "  Widgets Documentation</a> for setup instructions.\n",
       "</p>\n",
       "<p>\n",
       "  If you're reading this message in another frontend (for example, a static\n",
       "  rendering on GitHub or <a href=\"https://nbviewer.jupyter.org/\">NBViewer</a>),\n",
       "  it may mean that your frontend doesn't currently support widgets.\n",
       "</p>\n"
      ],
      "text/plain": [
       "HBox(children=(IntProgress(value=0, description='Epoch', max=1), HTML(value='')))"
      ]
     },
     "metadata": {},
     "output_type": "display_data"
    },
    {
     "name": "stdout",
     "output_type": "stream",
     "text": [
      " 87%|████████▋ | 201/230 [00:14<00:02, 14.04it/s, loss=25]  "
     ]
    }
   ],
   "source": [
    "# Find learning rate\n",
    "learner.lr_find()"
   ]
  },
  {
   "cell_type": "code",
   "execution_count": 99,
   "metadata": {},
   "outputs": [
    {
     "data": {
      "image/png": "[encoded data removed]",
      "text/plain": [
       "<matplotlib.figure.Figure at 0x7fadbc6be9e8>"
      ]
     },
     "metadata": {},
     "output_type": "display_data"
    }
   ],
   "source": [
    "learner.sched.plot_lr()"
   ]
  },
  {
   "cell_type": "code",
   "execution_count": 100,
   "metadata": {},
   "outputs": [
    {
     "data": {
      "image/png": "[encoded data removed]",
      "text/plain": [
       "<matplotlib.figure.Figure at 0x7fadba28c390>"
      ]
     },
     "metadata": {},
     "output_type": "display_data"
    }
   ],
   "source": [
    "learner.sched.plot()"
   ]
  },
  {
   "cell_type": "code",
   "execution_count": 45,
   "metadata": {},
   "outputs": [],
   "source": [
    "learning_rate = 0.001"
   ]
  },
  {
   "cell_type": "code",
   "execution_count": 46,
   "metadata": {},
   "outputs": [
    {
     "data": {
      "application/vnd.jupyter.widget-view+json": {
       "model_id": "bee1e911bd8e498699bb679f6784292d",
       "version_major": 2,
       "version_minor": 0
      },
      "text/html": [
       "<p>Failed to display Jupyter Widget of type <code>HBox</code>.</p>\n",
       "<p>\n",
       "  If you're reading this message in the Jupyter Notebook or JupyterLab Notebook, it may mean\n",
       "  that the widgets JavaScript is still loading. If this message persists, it\n",
       "  likely means that the widgets JavaScript library is either not installed or\n",
       "  not enabled. See the <a href=\"https://ipywidgets.readthedocs.io/en/stable/user_install.html\">Jupyter\n",
       "  Widgets Documentation</a> for setup instructions.\n",
       "</p>\n",
       "<p>\n",
       "  If you're reading this message in another frontend (for example, a static\n",
       "  rendering on GitHub or <a href=\"https://nbviewer.jupyter.org/\">NBViewer</a>),\n",
       "  it may mean that your frontend doesn't currently support widgets.\n",
       "</p>\n"
      ],
      "text/plain": [
       "HBox(children=(IntProgress(value=0, description='Epoch', max=15), HTML(value='')))"
      ]
     },
     "metadata": {},
     "output_type": "display_data"
    },
    {
     "name": "stdout",
     "output_type": "stream",
     "text": [
      "[ 0.       5.4943   5.41268]                                \n",
      "[ 1.       5.18617  5.07068]                                \n",
      "[ 2.       5.04673  4.98784]                                \n",
      "[ 3.       4.93937  4.8405 ]                                \n",
      "[ 4.       4.8292   4.75386]                                \n",
      "[ 5.       4.7635   4.70632]                                \n",
      "[ 6.       4.73625  4.69409]                                \n",
      "[ 7.       4.72815  4.6471 ]                                \n",
      "[ 8.       4.63929  4.59031]                                \n",
      "[ 9.       4.57225  4.53499]                                \n",
      "[ 10.        4.50904   4.50774]                             \n",
      "[ 11.        4.46455   4.48345]                             \n",
      "[ 12.        4.42123   4.46476]                             \n",
      "[ 13.        4.39759   4.45931]                             \n",
      "[ 14.        4.38875   4.45923]                             \n",
      "\n"
     ]
    }
   ],
   "source": [
    "learner.fit(lrs=learning_rate, n_cycle=4, wds=1e-6, cycle_len=1, cycle_mult=2)"
   ]
  },
  {
   "cell_type": "code",
   "execution_count": 47,
   "metadata": {},
   "outputs": [],
   "source": [
    "# Save the model\n",
    "learner.save('txt_lm')\n",
    "\n",
    "# Save the encoder\n",
    "learner.save_encoder('txt_lm_encoder')"
   ]
  },
  {
   "cell_type": "markdown",
   "metadata": {},
   "source": [
    "## Test the language model"
   ]
  },
  {
   "cell_type": "code",
   "execution_count": 48,
   "metadata": {},
   "outputs": [],
   "source": [
    "def sample_model(model, seed_str, output_len=50):\n",
    "    # Process the seed string\n",
    "    seed_str_toks = TEXT.preprocess(TEXT.tokenize(seed_str))\n",
    "    seed_str_toks_num = TEXT.numericalize([seed_str_toks])\n",
    "\n",
    "    # Set batch size to 1\n",
    "    model[0].bs = 1\n",
    "\n",
    "    # Turn off dropoff (eval mode)\n",
    "    model.eval()\n",
    "\n",
    "    # Reset hidden states\n",
    "    model.reset()\n",
    "\n",
    "    # Generate initial predictions\n",
    "    pred, *_ = model(seed_str_toks_num)\n",
    "    print('...', end='')\n",
    "\n",
    "    for i in range(output_len):\n",
    "        # Get the last predictions\n",
    "        pred_last = pred[-1]\n",
    "        \n",
    "        # Compute probabilities using softmax\n",
    "        pred_last_prob = pred[-1].exp() / pred[-1].exp().sum()\n",
    "        \n",
    "        # Randomly sample one word per the probabilities\n",
    "        pred_last_choice = torch.multinomial(pred_last_prob, 1)\n",
    "        \n",
    "        # Convert it to word\n",
    "        word = TEXT.vocab.itos[pred_last_choice.data[0]]\n",
    "        print(word, end=' ')\n",
    "\n",
    "        if word == '<eos>':\n",
    "            break\n",
    "\n",
    "        # Generate the next predictions\n",
    "        pred, *_ = model(pred_last_choice.unsqueeze(0))\n",
    "    \n",
    "    # Reset encoder batch size\n",
    "    model[0].bs = bs"
   ]
  },
  {
   "cell_type": "code",
   "execution_count": 49,
   "metadata": {},
   "outputs": [
    {
     "name": "stdout",
     "output_type": "stream",
     "text": [
      "The fury of a demon instantly possessed me.\n",
      "...but at the last days of described some house it is common and so too seen i had felt the walls of the through the marie balloon a greater itself . the <unk> he had seemed for the <unk> , my else near the practice was some <unk> thing . None\n"
     ]
    }
   ],
   "source": [
    "print(txt_val['text'].iloc[0])\n",
    "print(sample_model(learner.model, txt_val['text'].iloc[0]))"
   ]
  },
  {
   "cell_type": "markdown",
   "metadata": {},
   "source": [
    "## Prepare data for classifications"
   ]
  },
  {
   "cell_type": "code",
   "execution_count": 19,
   "metadata": {},
   "outputs": [],
   "source": [
    "TEXT = pickle.load(open(f'{PATH}/models/TEXT.pkl','rb'))\n",
    "LABEL = data.Field(sequential=False)"
   ]
  },
  {
   "cell_type": "code",
   "execution_count": null,
   "metadata": {},
   "outputs": [],
   "source": [
    "# Save processed training, validation, and test data\n",
    "txt_trn.join(txt_trn_y)[['text', 'author']].to_csv(\n",
    "    f'{PATH}/train_proc.csv', index=False, header=False)\n",
    "txt_val.join(txt_val_y)[['text', 'author']].to_csv(\n",
    "    f'{PATH}/val_proc.csv', index=False, header=False)"
   ]
  },
  {
   "cell_type": "code",
   "execution_count": 58,
   "metadata": {},
   "outputs": [],
   "source": [
    "txt_test_proc = txt_test[['text']].copy()\n",
    "txt_test_proc['author'] = np.nan  # Dummy label (hacky)\n",
    "\n",
    "# Repeat the last row so the real data won't be truncated (very hacky)\n",
    "txt_test_proc = txt_test_proc.append(txt_test_proc.iloc[[-1] * bs])\n",
    "txt_test_proc.reset_index(drop=True, inplace=True)\n",
    "txt_test_proc.to_csv(f'{PATH}/test_proc.csv', index=False, header=False)"
   ]
  },
  {
   "cell_type": "code",
   "execution_count": 60,
   "metadata": {},
   "outputs": [],
   "source": [
    "# https://github.com/pytorch/text/blob/master/torchtext/data/dataset.py\n",
    "class TabularDataset(data.Dataset):\n",
    "    \"\"\"Defines a Dataset of columns stored in CSV, TSV, or JSON format.\"\"\"\n",
    "\n",
    "    def __init__(self, path, format, fields, skip_header=False, **kwargs):\n",
    "        make_example = {\n",
    "            'json': data.Example.fromJSON, 'dict': data.Example.fromdict,\n",
    "            'tsv': data.Example.fromTSV, 'csv': data.Example.fromCSV}[format.lower()]\n",
    "\n",
    "        with io.open(os.path.expanduser(path), encoding=\"utf8\") as f:\n",
    "            if skip_header:\n",
    "                next(f)\n",
    "            examples = [make_example(line, fields) for line in f]\n",
    "\n",
    "        if make_example in (data.Example.fromdict, data.Example.fromJSON):\n",
    "            fields, field_dict = [], fields\n",
    "            for field in field_dict.values():\n",
    "                if isinstance(field, list):\n",
    "                    fields.extend(field)\n",
    "                else:\n",
    "                    fields.append(field)\n",
    "\n",
    "        super(TabularDataset, self).__init__(examples, fields, **kwargs)\n",
    "    \n",
    "    @staticmethod\n",
    "    def sort_key(ex):\n",
    "        return len(ex.text)"
   ]
  },
  {
   "cell_type": "code",
   "execution_count": 61,
   "metadata": {},
   "outputs": [],
   "source": [
    "# Create splits\n",
    "# https://github.com/pytorch/text\n",
    "txt_splits_trn, txt_splits_val, txt_splits_test = TabularDataset.splits(\n",
    "    path=PATH,\n",
    "    train='train_proc.csv',\n",
    "    validation='val_proc.csv',\n",
    "    test='test_proc.csv',\n",
    "    format='csv',\n",
    "    fields=[('text', TEXT), ('label', LABEL)])"
   ]
  },
  {
   "cell_type": "code",
   "execution_count": 88,
   "metadata": {},
   "outputs": [],
   "source": [
    "# https://github.com/fastai/fastai/blob/master/fastai/nlp.py\n",
    "class TextDataWithTest(ModelData):\n",
    "    def create_td(self, it):\n",
    "        return TextDataLoader(it, self.text_fld, self.label_fld)\n",
    "\n",
    "    @classmethod\n",
    "    def from_splits(cls,\n",
    "                    path,\n",
    "                    splits,\n",
    "                    bs,\n",
    "                    text_name='text',\n",
    "                    label_name='label',\n",
    "                    id_name='id'):\n",
    "        text_fld = splits[0].fields[text_name]\n",
    "        label_fld = splits[0].fields[label_name]\n",
    "        label_fld.build_vocab(splits[0])\n",
    "\n",
    "        trn_iter, val_iter, test_iter = torchtext.data.BucketIterator.splits(splits, batch_sizes=(bs, bs, 1))\n",
    "        \n",
    "        trn_dl = TextDataLoader(trn_iter, text_name, label_name)\n",
    "        val_dl = TextDataLoader(val_iter, text_name, label_name)\n",
    "        test_dl = TextDataLoader(test_iter, text_name, label_name)\n",
    "\n",
    "        obj = cls.from_dls(path, trn_dl, val_dl, test_dl)\n",
    "        \n",
    "        obj.bs = bs\n",
    "        obj.pad_idx = text_fld.vocab.stoi[text_fld.pad_token]\n",
    "        obj.nt = len(text_fld.vocab)\n",
    "        obj.c = len(label_fld.vocab)\n",
    "        \n",
    "        return obj\n",
    "\n",
    "    def get_model(self, opt_fn, max_sl, bptt, emb_sz, n_hid, n_layers,\n",
    "                  **kwargs):\n",
    "        m = get_rnn_classifer(\n",
    "            max_sl,\n",
    "            bptt,\n",
    "            self.bs,\n",
    "            self.c,\n",
    "            self.nt,\n",
    "            emb_sz=emb_sz,\n",
    "            n_hid=n_hid,\n",
    "            n_layers=n_layers,\n",
    "            pad_token=self.pad_idx,\n",
    "            **kwargs)\n",
    "        model = TextModel(to_gpu(m))\n",
    "        return RNN_Learner(self, model, opt_fn=opt_fn)"
   ]
  },
  {
   "cell_type": "code",
   "execution_count": 89,
   "metadata": {},
   "outputs": [],
   "source": [
    "# Create text data\n",
    "txt_td = TextDataWithTest.from_splits(PATH, (txt_splits_trn, txt_splits_val, txt_splits_test), bs)"
   ]
  },
  {
   "cell_type": "markdown",
   "metadata": {},
   "source": [
    "## Create classification model"
   ]
  },
  {
   "cell_type": "code",
   "execution_count": 107,
   "metadata": {},
   "outputs": [],
   "source": [
    "clf = txt_td.get_model(\n",
    "    opt_fn=opt_fn,\n",
    "    max_sl=1500,\n",
    "    bptt=bptt,\n",
    "    emb_sz=embedding_size,\n",
    "    n_hid=hidden_size,\n",
    "    n_layers=n_layers,\n",
    "    dropout=0.1,\n",
    "    dropouti=0.4,\n",
    "    wdrop=0.5,\n",
    "    dropoute=0.05,\n",
    "    dropouth=0.3)"
   ]
  },
  {
   "cell_type": "code",
   "execution_count": 108,
   "metadata": {},
   "outputs": [
    {
     "data": {
      "text/plain": [
       "SequentialRNN (\n",
       "  (0): MultiBatchRNN (\n",
       "    (encoder): Embedding(3960, 200, padding_idx=1)\n",
       "    (rnns): ModuleList (\n",
       "      (0): WeightDrop (\n",
       "        (module): LSTM(200, 500, dropout=0.3)\n",
       "      )\n",
       "      (1): WeightDrop (\n",
       "        (module): LSTM(500, 500, dropout=0.3)\n",
       "      )\n",
       "      (2): WeightDrop (\n",
       "        (module): LSTM(500, 200, dropout=0.3)\n",
       "      )\n",
       "    )\n",
       "    (dropouti): LockedDropout (\n",
       "    )\n",
       "    (dropouth): LockedDropout (\n",
       "    )\n",
       "  )\n",
       "  (1): PoolingLinearClassifier (\n",
       "    (decoder): Linear (600 -> 4)\n",
       "    (dropout): LockedDropout (\n",
       "    )\n",
       "  )\n",
       ")"
      ]
     },
     "execution_count": 108,
     "metadata": {},
     "output_type": "execute_result"
    }
   ],
   "source": [
    "clf"
   ]
  },
  {
   "cell_type": "code",
   "execution_count": 109,
   "metadata": {},
   "outputs": [],
   "source": [
    "# Use the pre-trained language model encoder\n",
    "clf.load_encoder('txt_lm_encoder')"
   ]
  },
  {
   "cell_type": "code",
   "execution_count": 110,
   "metadata": {},
   "outputs": [
    {
     "data": {
      "text/plain": [
       "SequentialRNN (\n",
       "  (0): MultiBatchRNN (\n",
       "    (encoder): Embedding(3960, 200, padding_idx=1)\n",
       "    (rnns): ModuleList (\n",
       "      (0): WeightDrop (\n",
       "        (module): LSTM(200, 500, dropout=0.3)\n",
       "      )\n",
       "      (1): WeightDrop (\n",
       "        (module): LSTM(500, 500, dropout=0.3)\n",
       "      )\n",
       "      (2): WeightDrop (\n",
       "        (module): LSTM(500, 200, dropout=0.3)\n",
       "      )\n",
       "    )\n",
       "    (dropouti): LockedDropout (\n",
       "    )\n",
       "    (dropouth): LockedDropout (\n",
       "    )\n",
       "  )\n",
       "  (1): PoolingLinearClassifier (\n",
       "    (decoder): Linear (600 -> 4)\n",
       "    (dropout): LockedDropout (\n",
       "    )\n",
       "  )\n",
       ")"
      ]
     },
     "execution_count": 110,
     "metadata": {},
     "output_type": "execute_result"
    }
   ],
   "source": [
    "clf"
   ]
  },
  {
   "cell_type": "code",
   "execution_count": 111,
   "metadata": {},
   "outputs": [],
   "source": [
    "# Add regularization\n",
    "clf.reg_fn = partial(seq2seq_reg, alpha=2, beta=1)"
   ]
  },
  {
   "cell_type": "code",
   "execution_count": 112,
   "metadata": {},
   "outputs": [],
   "source": [
    "clf.clip = 25"
   ]
  },
  {
   "cell_type": "code",
   "execution_count": 113,
   "metadata": {},
   "outputs": [],
   "source": [
    "# Use differential learning rates\n",
    "learning_rate = np.array([1e-5, 1e-4, 1e-3])"
   ]
  },
  {
   "cell_type": "code",
   "execution_count": 114,
   "metadata": {},
   "outputs": [],
   "source": [
    "# Freeze to the last layer\n",
    "clf.freeze_to(-1)"
   ]
  },
  {
   "cell_type": "code",
   "execution_count": 115,
   "metadata": {},
   "outputs": [
    {
     "data": {
      "application/vnd.jupyter.widget-view+json": {
       "model_id": "f5a7f1ad94c34d2a944956f46d2289f7",
       "version_major": 2,
       "version_minor": 0
      },
      "text/html": [
       "<p>Failed to display Jupyter Widget of type <code>HBox</code>.</p>\n",
       "<p>\n",
       "  If you're reading this message in the Jupyter Notebook or JupyterLab Notebook, it may mean\n",
       "  that the widgets JavaScript is still loading. If this message persists, it\n",
       "  likely means that the widgets JavaScript library is either not installed or\n",
       "  not enabled. See the <a href=\"https://ipywidgets.readthedocs.io/en/stable/user_install.html\">Jupyter\n",
       "  Widgets Documentation</a> for setup instructions.\n",
       "</p>\n",
       "<p>\n",
       "  If you're reading this message in another frontend (for example, a static\n",
       "  rendering on GitHub or <a href=\"https://nbviewer.jupyter.org/\">NBViewer</a>),\n",
       "  it may mean that your frontend doesn't currently support widgets.\n",
       "</p>\n"
      ],
      "text/plain": [
       "HBox(children=(IntProgress(value=0, description='Epoch', max=10), HTML(value='')))"
      ]
     },
     "metadata": {},
     "output_type": "display_data"
    },
    {
     "name": "stdout",
     "output_type": "stream",
     "text": [
      "[ 0.       1.00217  0.94929  0.56415]                        \n",
      "[ 1.       0.95744  0.91165  0.59025]                        \n",
      "[ 2.       0.9462   0.89193  0.60238]                        \n",
      "[ 3.       0.9335   0.88177  0.60115]                        \n",
      "[ 4.       0.94036  0.87352  0.61205]                        \n",
      "[ 5.       0.92481  0.87004  0.61266]                        \n",
      "[ 6.       0.9178   0.86395  0.61863]                        \n",
      "[ 7.       0.90489  0.87043  0.60444]                        \n",
      "[ 8.       0.91348  0.85819  0.61883]                        \n",
      "[ 9.       0.91305  0.85211  0.62438]                        \n",
      "\n"
     ]
    }
   ],
   "source": [
    "clf.fit(learning_rate, n_cycle=10, metrics=[accuracy])"
   ]
  },
  {
   "cell_type": "code",
   "execution_count": 116,
   "metadata": {},
   "outputs": [],
   "source": [
    "# Unfreeze\n",
    "clf.unfreeze()"
   ]
  },
  {
   "cell_type": "code",
   "execution_count": 117,
   "metadata": {},
   "outputs": [
    {
     "data": {
      "application/vnd.jupyter.widget-view+json": {
       "model_id": "67bd9396d3a64f72ac8e89f76b66fa30",
       "version_major": 2,
       "version_minor": 0
      },
      "text/html": [
       "<p>Failed to display Jupyter Widget of type <code>HBox</code>.</p>\n",
       "<p>\n",
       "  If you're reading this message in the Jupyter Notebook or JupyterLab Notebook, it may mean\n",
       "  that the widgets JavaScript is still loading. If this message persists, it\n",
       "  likely means that the widgets JavaScript library is either not installed or\n",
       "  not enabled. See the <a href=\"https://ipywidgets.readthedocs.io/en/stable/user_install.html\">Jupyter\n",
       "  Widgets Documentation</a> for setup instructions.\n",
       "</p>\n",
       "<p>\n",
       "  If you're reading this message in another frontend (for example, a static\n",
       "  rendering on GitHub or <a href=\"https://nbviewer.jupyter.org/\">NBViewer</a>),\n",
       "  it may mean that your frontend doesn't currently support widgets.\n",
       "</p>\n"
      ],
      "text/plain": [
       "HBox(children=(IntProgress(value=0, description='Epoch', max=10), HTML(value='')))"
      ]
     },
     "metadata": {},
     "output_type": "display_data"
    },
    {
     "name": "stdout",
     "output_type": "stream",
     "text": [
      "[ 0.       0.85413  0.77886  0.66324]                        \n",
      "[ 1.       0.84048  0.74769  0.67167]                        \n",
      "[ 2.       0.78713  0.70544  0.70169]                        \n",
      "[ 3.       0.7754   0.68913  0.7058 ]                        \n",
      "[ 4.       0.76308  0.68915  0.70559]                        \n",
      "[ 5.       0.72915  0.68261  0.71587]                        \n",
      "[ 6.       0.7118   0.63682  0.73396]                        \n",
      "[ 7.       0.69008  0.63138  0.7352 ]                        \n",
      "[ 8.       0.67174  0.61737  0.73869]                        \n",
      "[ 9.       0.66395  0.61603  0.74424]                        \n",
      "\n"
     ]
    }
   ],
   "source": [
    "clf.fit(learning_rate, n_cycle=10, metrics=[accuracy])"
   ]
  },
  {
   "cell_type": "code",
   "execution_count": 118,
   "metadata": {},
   "outputs": [
    {
     "data": {
      "application/vnd.jupyter.widget-view+json": {
       "model_id": "0d7bc4a3d1684937b321fb2dca76889d",
       "version_major": 2,
       "version_minor": 0
      },
      "text/html": [
       "<p>Failed to display Jupyter Widget of type <code>HBox</code>.</p>\n",
       "<p>\n",
       "  If you're reading this message in the Jupyter Notebook or JupyterLab Notebook, it may mean\n",
       "  that the widgets JavaScript is still loading. If this message persists, it\n",
       "  likely means that the widgets JavaScript library is either not installed or\n",
       "  not enabled. See the <a href=\"https://ipywidgets.readthedocs.io/en/stable/user_install.html\">Jupyter\n",
       "  Widgets Documentation</a> for setup instructions.\n",
       "</p>\n",
       "<p>\n",
       "  If you're reading this message in another frontend (for example, a static\n",
       "  rendering on GitHub or <a href=\"https://nbviewer.jupyter.org/\">NBViewer</a>),\n",
       "  it may mean that your frontend doesn't currently support widgets.\n",
       "</p>\n"
      ],
      "text/plain": [
       "HBox(children=(IntProgress(value=0, description='Epoch', max=15), HTML(value='')))"
      ]
     },
     "metadata": {},
     "output_type": "display_data"
    },
    {
     "name": "stdout",
     "output_type": "stream",
     "text": [
      "[ 0.       0.64973  0.60298  0.74835]                        \n",
      "[ 1.       0.65598  0.59749  0.74692]                        \n",
      "[ 2.       0.63824  0.59924  0.75123]                        \n",
      "[ 3.       0.62222  0.61936  0.73993]                        \n",
      "[ 4.       0.62443  0.5902   0.75329]                        \n",
      "[ 5.       0.61445  0.58246  0.75514]                        \n",
      "[ 6.       0.60069  0.58252  0.75637]                        \n",
      "[ 7.       0.6115   0.5785   0.76007]                        \n",
      "[ 8.       0.59613  0.57602  0.76234]                        \n",
      "[ 9.       0.5757   0.62004  0.74774]                        \n",
      "[ 10.        0.58265   0.56577   0.7683 ]                    \n",
      "[ 11.        0.5462    0.57487   0.76398]                    \n",
      "[ 12.        0.56295   0.56061   0.76871]                    \n",
      "[ 13.        0.55191   0.56151   0.76994]                    \n",
      "[ 14.        0.55462   0.56152   0.76933]                    \n",
      "\n"
     ]
    }
   ],
   "source": [
    "clf.fit(learning_rate, n_cycle=4, cycle_len=1, cycle_mult=2, metrics=[accuracy])"
   ]
  },
  {
   "cell_type": "code",
   "execution_count": 120,
   "metadata": {},
   "outputs": [],
   "source": [
    "clf_pred = clf.predict(is_test=True)"
   ]
  },
  {
   "cell_type": "code",
   "execution_count": 126,
   "metadata": {},
   "outputs": [
    {
     "data": {
      "text/plain": [
       "array([1, 1, 2, 2, 2, 1, 3, 2, 2, 2, 2, 2, 2, 2, 2, 2, 2, 2, 2, 2, 2, 2, 2, 2, 2, 2, 2, 2, 2, 2, 2, 2, 2, 2,\n",
       "       2, 2, 2, 2, 2, 2, 2, 2, 2, 2, 2, 2, 2, 2, 2, 2, 2, 2, 2, 2, 2, 2, 2, 2, 2, 2, 2, 2, 2, 2, 2, 2, 2, 2,\n",
       "       2, 2, 2, 2, 2])"
      ]
     },
     "execution_count": 126,
     "metadata": {},
     "output_type": "execute_result"
    }
   ],
   "source": [
    "# Make sure the last few predictions are the same\n",
    "# (because I repeated the last row)\n",
    "clf_pred_label = np.argmax(clf_pred, axis=1)\n",
    "clf_pred_label[-(len(clf_pred_label) - len(txt_test) + 10):]"
   ]
  },
  {
   "cell_type": "code",
   "execution_count": 182,
   "metadata": {},
   "outputs": [],
   "source": [
    "# Compute probabilities\n",
    "clf_pred_prob = clf_pred[:, 1:]\n",
    "clf_pred_prob = np.exp(clf_pred_prob) / np.exp(clf_pred_prob).sum(axis=1)[:, None]"
   ]
  },
  {
   "cell_type": "code",
   "execution_count": 184,
   "metadata": {},
   "outputs": [],
   "source": [
    "# Truncate and combine with the test data\n",
    "clf_pred_df = pd.DataFrame(clf_pred_prob[:len(txt_test)])\n",
    "clf_pred_df.columns = LABEL.vocab.itos[1:]\n",
    "\n",
    "txt_test_w_pred = txt_test.join(clf_pred_df)\n",
    "txt_test_w_pred = txt_test_w_pred[['id', 'EAP', 'HPL', 'MWS']]"
   ]
  },
  {
   "cell_type": "code",
   "execution_count": 185,
   "metadata": {},
   "outputs": [],
   "source": [
    "txt_test_w_pred.to_csv(f'{PATH}/test_w_pred.csv', index=False)"
   ]
  },
  {
   "cell_type": "code",
   "execution_count": null,
   "metadata": {},
   "outputs": [],
   "source": []
  }
 ],
 "metadata": {
  "kernelspec": {
   "display_name": "Python 3",
   "language": "python",
   "name": "python3"
  },
  "language_info": {
   "codemirror_mode": {
    "name": "ipython",
    "version": 3
   },
   "file_extension": ".py",
   "mimetype": "text/x-python",
   "name": "python",
   "nbconvert_exporter": "python",
   "pygments_lexer": "ipython3",
   "version": "3.6.3"
  }
 },
 "nbformat": 4,
 "nbformat_minor": 2
}
